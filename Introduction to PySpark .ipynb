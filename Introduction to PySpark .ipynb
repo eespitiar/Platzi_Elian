{
 "cells": [
  {
   "cell_type": "markdown",
   "metadata": {},
   "source": [
    "# **Introduction to PySpark**"
   ]
  },
  {
   "cell_type": "markdown",
   "metadata": {},
   "source": [
    "# Index\n",
    "\n",
    "1. PySpark instalation\n",
    "2. How to create a SparkSession\n",
    "3. Read a CSV file\n",
    "4. General info about a data frame\n",
    "5. Column operations (select, add, drop, rename)\n",
    "6. working with Null values"
   ]
  },
  {
   "cell_type": "markdown",
   "metadata": {},
   "source": [
    "## 1. PySpark instalation"
   ]
  },
  {
   "cell_type": "markdown",
   "metadata": {},
   "source": [
    "First of all, install the *pyspark* library with the following line of code: "
   ]
  },
  {
   "cell_type": "code",
   "execution_count": 1,
   "metadata": {},
   "outputs": [],
   "source": [
    "#pip install pyspark"
   ]
  },
  {
   "cell_type": "markdown",
   "metadata": {},
   "source": [
    "Now, we will import the required libraries:"
   ]
  },
  {
   "cell_type": "code",
   "execution_count": 2,
   "metadata": {},
   "outputs": [],
   "source": [
    "import numpy as np \n",
    "import pandas as pd\n",
    "import matplotlib.pyplot as plt\n",
    "\n",
    "import pyspark"
   ]
  },
  {
   "cell_type": "markdown",
   "metadata": {},
   "source": [
    "## 2. How to create a SparkSession"
   ]
  },
  {
   "cell_type": "code",
   "execution_count": 3,
   "metadata": {},
   "outputs": [],
   "source": [
    "# First of all, we need to import the SparkSession class from the pyspark.sql module.\n",
    "from pyspark.sql import SparkSession "
   ]
  },
  {
   "cell_type": "code",
   "execution_count": 4,
   "metadata": {},
   "outputs": [
    {
     "data": {
      "text/html": [
       "\n",
       "            <div>\n",
       "                <p><b>SparkSession - in-memory</b></p>\n",
       "                \n",
       "        <div>\n",
       "            <p><b>SparkContext</b></p>\n",
       "\n",
       "            <p><a href=\"http://pb0b0951671.bancolombia.corp:4040\">Spark UI</a></p>\n",
       "\n",
       "            <dl>\n",
       "              <dt>Version</dt>\n",
       "                <dd><code>v3.5.0</code></dd>\n",
       "              <dt>Master</dt>\n",
       "                <dd><code>local[*]</code></dd>\n",
       "              <dt>AppName</dt>\n",
       "                <dd><code>Practice</code></dd>\n",
       "            </dl>\n",
       "        </div>\n",
       "        \n",
       "            </div>\n",
       "        "
      ],
      "text/plain": [
       "<pyspark.sql.session.SparkSession at 0x20c79e57950>"
      ]
     },
     "execution_count": 4,
     "metadata": {},
     "output_type": "execute_result"
    }
   ],
   "source": [
    "# now, we will create an instance of the SparkSession class.\n",
    "spark = SparkSession.builder.appName('Practice').getOrCreate()\n",
    "spark"
   ]
  },
  {
   "cell_type": "markdown",
   "metadata": {},
   "source": [
    "## 3. Read a CSV file"
   ]
  },
  {
   "cell_type": "code",
   "execution_count": 5,
   "metadata": {},
   "outputs": [
    {
     "name": "stdout",
     "output_type": "stream",
     "text": [
      "+------+----+----------+------+----------+\n",
      "|  Name| Age|Experience|Salary|Department|\n",
      "+------+----+----------+------+----------+\n",
      "|Andres|  20|        12|  3000|        IT|\n",
      "|Camilo|  50|      NULL|  5000|        IT|\n",
      "|  Juan|NULL|         2|  7000| Analitics|\n",
      "|Miguel|  24|         6|  NULL| Analitics|\n",
      "| Pedro|  11|         9| 11000|        IT|\n",
      "|  NULL|  54|         1|  8000| Analitics|\n",
      "+------+----+----------+------+----------+\n",
      "\n"
     ]
    }
   ],
   "source": [
    "# Now, we will create a DataFrame from a CSV file. We will use the read.csv() method for \n",
    "# this purpose.\n",
    "df = spark.read.csv(\"C:/Users/eespitia/Documents/VSCode Notebooks/sample_data.csv\", \n",
    "                    header=True, inferSchema=True)\n",
    "\n",
    "# The parameters header and inferSchema are set to True to ensure that the first row of \n",
    "# the CSV file is treated as the header and the schema is inferred automatically.\n",
    "\n",
    "df.show()"
   ]
  },
  {
   "cell_type": "code",
   "execution_count": 6,
   "metadata": {},
   "outputs": [
    {
     "name": "stdout",
     "output_type": "stream",
     "text": [
      "root\n",
      " |-- Name: string (nullable = true)\n",
      " |-- Age: integer (nullable = true)\n",
      " |-- Experience: integer (nullable = true)\n",
      " |-- Salary: integer (nullable = true)\n",
      " |-- Department: string (nullable = true)\n",
      "\n"
     ]
    }
   ],
   "source": [
    "df.printSchema()"
   ]
  },
  {
   "cell_type": "markdown",
   "metadata": {},
   "source": [
    "## 4. General info about a data frame"
   ]
  },
  {
   "cell_type": "markdown",
   "metadata": {},
   "source": [
    "In order to get some general information about the dataframe, we have the following commands:"
   ]
  },
  {
   "cell_type": "code",
   "execution_count": 7,
   "metadata": {},
   "outputs": [
    {
     "name": "stdout",
     "output_type": "stream",
     "text": [
      "+------+----+----------+------+----------+\n",
      "|  Name| Age|Experience|Salary|Department|\n",
      "+------+----+----------+------+----------+\n",
      "|Andres|  20|        12|  3000|        IT|\n",
      "|Camilo|  50|      NULL|  5000|        IT|\n",
      "|  Juan|NULL|         2|  7000| Analitics|\n",
      "|Miguel|  24|         6|  NULL| Analitics|\n",
      "| Pedro|  11|         9| 11000|        IT|\n",
      "|  NULL|  54|         1|  8000| Analitics|\n",
      "+------+----+----------+------+----------+\n",
      "\n",
      "root\n",
      " |-- Name: string (nullable = true)\n",
      " |-- Age: integer (nullable = true)\n",
      " |-- Experience: integer (nullable = true)\n",
      " |-- Salary: integer (nullable = true)\n",
      " |-- Department: string (nullable = true)\n",
      "\n",
      "+-------+------+----------------+-----------------+----------------+----------+\n",
      "|summary|  Name|             Age|       Experience|          Salary|Department|\n",
      "+-------+------+----------------+-----------------+----------------+----------+\n",
      "|  count|     5|               5|                5|               5|         6|\n",
      "|   mean|  NULL|            31.8|              6.0|          6800.0|      NULL|\n",
      "| stddev|  NULL|19.0840247327444|4.636809247747852|3033.15017762062|      NULL|\n",
      "|    min|Andres|              11|                1|            3000| Analitics|\n",
      "|    max| Pedro|              54|               12|           11000|        IT|\n",
      "+-------+------+----------------+-----------------+----------------+----------+\n",
      "\n"
     ]
    }
   ],
   "source": [
    "type(df)\n",
    "df.show()\n",
    "df.printSchema()\n",
    "df.columns\n",
    "df.dtypes\n",
    "df.head(3)\n",
    "df.describe().show()"
   ]
  },
  {
   "cell_type": "markdown",
   "metadata": {},
   "source": [
    "## 5. Column operations (select, add, drop, rename)"
   ]
  },
  {
   "cell_type": "code",
   "execution_count": 8,
   "metadata": {},
   "outputs": [
    {
     "name": "stdout",
     "output_type": "stream",
     "text": [
      "+------+----------+\n",
      "|  Name|Experience|\n",
      "+------+----------+\n",
      "|Andres|        12|\n",
      "|Camilo|      NULL|\n",
      "|  Juan|         2|\n",
      "|Miguel|         6|\n",
      "| Pedro|         9|\n",
      "|  NULL|         1|\n",
      "+------+----------+\n",
      "\n"
     ]
    }
   ],
   "source": [
    "# To select a set of columns:\n",
    "df.select([\"Name\", \"Experience\"]).show()"
   ]
  },
  {
   "cell_type": "code",
   "execution_count": 9,
   "metadata": {},
   "outputs": [
    {
     "name": "stdout",
     "output_type": "stream",
     "text": [
      "+------+----+----------+------+----------+------------------------+\n",
      "|  Name| Age|Experience|Salary|Department|Expreience after 2 years|\n",
      "+------+----+----------+------+----------+------------------------+\n",
      "|Andres|  20|        12|  3000|        IT|                      14|\n",
      "|Camilo|  50|      NULL|  5000|        IT|                    NULL|\n",
      "|  Juan|NULL|         2|  7000| Analitics|                       4|\n",
      "|Miguel|  24|         6|  NULL| Analitics|                       8|\n",
      "| Pedro|  11|         9| 11000|        IT|                      11|\n",
      "|  NULL|  54|         1|  8000| Analitics|                       3|\n",
      "+------+----+----------+------+----------+------------------------+\n",
      "\n"
     ]
    }
   ],
   "source": [
    "# to add a column\n",
    "df.withColumn(\"Expreience after 2 years\", df[\"Experience\"]+2).show()"
   ]
  },
  {
   "cell_type": "code",
   "execution_count": 10,
   "metadata": {},
   "outputs": [
    {
     "name": "stdout",
     "output_type": "stream",
     "text": [
      "+------+----------+------+----------+\n",
      "|  Name|Experience|Salary|Department|\n",
      "+------+----------+------+----------+\n",
      "|Andres|        12|  3000|        IT|\n",
      "|Camilo|      NULL|  5000|        IT|\n",
      "|  Juan|         2|  7000| Analitics|\n",
      "|Miguel|         6|  NULL| Analitics|\n",
      "| Pedro|         9| 11000|        IT|\n",
      "|  NULL|         1|  8000| Analitics|\n",
      "+------+----------+------+----------+\n",
      "\n"
     ]
    }
   ],
   "source": [
    "# To drop a Column\n",
    "df.drop(\"Age\").show()"
   ]
  },
  {
   "cell_type": "code",
   "execution_count": 11,
   "metadata": {},
   "outputs": [
    {
     "name": "stdout",
     "output_type": "stream",
     "text": [
      "+---------+----+----------+------+----------+\n",
      "|Full Name| Age|Experience|Salary|Department|\n",
      "+---------+----+----------+------+----------+\n",
      "|   Andres|  20|        12|  3000|        IT|\n",
      "|   Camilo|  50|      NULL|  5000|        IT|\n",
      "|     Juan|NULL|         2|  7000| Analitics|\n",
      "|   Miguel|  24|         6|  NULL| Analitics|\n",
      "|    Pedro|  11|         9| 11000|        IT|\n",
      "|     NULL|  54|         1|  8000| Analitics|\n",
      "+---------+----+----------+------+----------+\n",
      "\n"
     ]
    }
   ],
   "source": [
    "# to rename a column\n",
    "df.withColumnRenamed(\"Name\", \"Full Name\").show()"
   ]
  },
  {
   "cell_type": "markdown",
   "metadata": {},
   "source": [
    "## 6. working with Null values"
   ]
  },
  {
   "cell_type": "markdown",
   "metadata": {},
   "source": [
    "### Dropping missing values"
   ]
  },
  {
   "cell_type": "code",
   "execution_count": 12,
   "metadata": {},
   "outputs": [
    {
     "name": "stdout",
     "output_type": "stream",
     "text": [
      "+------+---+----------+------+----------+\n",
      "|  Name|Age|Experience|Salary|Department|\n",
      "+------+---+----------+------+----------+\n",
      "|Andres| 20|        12|  3000|        IT|\n",
      "| Pedro| 11|         9| 11000|        IT|\n",
      "+------+---+----------+------+----------+\n",
      "\n",
      "+------+---+----------+------+----------+\n",
      "|  Name|Age|Experience|Salary|Department|\n",
      "+------+---+----------+------+----------+\n",
      "|Andres| 20|        12|  3000|        IT|\n",
      "|Camilo| 50|      NULL|  5000|        IT|\n",
      "|Miguel| 24|         6|  NULL| Analitics|\n",
      "| Pedro| 11|         9| 11000|        IT|\n",
      "|  NULL| 54|         1|  8000| Analitics|\n",
      "+------+---+----------+------+----------+\n",
      "\n"
     ]
    }
   ],
   "source": [
    "# if we want to drop all rows with missing data:\n",
    "df.na.drop().show()\n",
    "\n",
    "# Parameters of this function:\n",
    "#     - how: It can take either \"any\" or \"all\" as the value. If \"any\" is passed, then it drops\n",
    "#            the row if any of the values are missing. If \"all\" is passed, then it drops the\n",
    "#            row only if all the values are missing.\n",
    "#     - thresh: It takes an integer value as the threshold. If the number of missing values\n",
    "#               is more than the threshold, then it drops the row.\n",
    "#     - subset: It takes a list of column names as the value. If the subset parameter is\n",
    "#               passed, then it drops the row only if the values are missing in the subset\n",
    "#               of columns.\n",
    "\n",
    "# For instance, if we want to drop the rows where the values are missing in the Age column,\n",
    "# then we can use the subset parameter as follows:\n",
    "df.na.drop(subset=[\"Age\"]).show()"
   ]
  },
  {
   "cell_type": "markdown",
   "metadata": {},
   "source": [
    "### Filling missing values"
   ]
  },
  {
   "cell_type": "code",
   "execution_count": 13,
   "metadata": {},
   "outputs": [
    {
     "name": "stdout",
     "output_type": "stream",
     "text": [
      "+------+---+----------+------+----------+\n",
      "|  Name|Age|Experience|Salary|Department|\n",
      "+------+---+----------+------+----------+\n",
      "|Andres| 20|        12|  3000|        IT|\n",
      "|Camilo| 50|      NULL|  5000|        IT|\n",
      "|  Juan|100|         2|  7000| Analitics|\n",
      "|Miguel| 24|         6|  NULL| Analitics|\n",
      "| Pedro| 11|         9| 11000|        IT|\n",
      "|  NULL| 54|         1|  8000| Analitics|\n",
      "+------+---+----------+------+----------+\n",
      "\n"
     ]
    }
   ],
   "source": [
    "# If we want to fill the missing values with a specific value, then we can use the fill()\n",
    "# function. This function takes two parameters:\n",
    "#     - value: It takes a value as the parameter. The missing values are replaced with this\n",
    "#              value.\n",
    "#     - subset: It takes a list of column names as the parameter. The missing values are\n",
    "#               replaced with the value parameter only in the subset of columns.\n",
    "df.na.fill(value=100, subset=[\"Age\"]).show()"
   ]
  },
  {
   "cell_type": "code",
   "execution_count": 14,
   "metadata": {},
   "outputs": [],
   "source": [
    "df = (\n",
    "    df\n",
    "    .na.fill(value=\"Sin Nombre\", subset=[\"Name\"])\n",
    "    .na.fill(value=100, subset=[\"Age\"])\n",
    "    .na.fill(value=0, subset=[\"Experience\"])\n",
    "    .na.fill(value=0, subset=[\"Salary\"])\n",
    ")"
   ]
  },
  {
   "cell_type": "markdown",
   "metadata": {},
   "source": [
    "### Filter Operations"
   ]
  },
  {
   "cell_type": "markdown",
   "metadata": {},
   "source": [
    "**Select**"
   ]
  },
  {
   "cell_type": "code",
   "execution_count": 15,
   "metadata": {},
   "outputs": [
    {
     "name": "stdout",
     "output_type": "stream",
     "text": [
      "+----------+---+------+\n",
      "|      Name|Age|Salary|\n",
      "+----------+---+------+\n",
      "|    Andres| 20|  3000|\n",
      "|    Camilo| 50|  5000|\n",
      "|      Juan|100|  7000|\n",
      "|    Miguel| 24|     0|\n",
      "|     Pedro| 11| 11000|\n",
      "|Sin Nombre| 54|  8000|\n",
      "+----------+---+------+\n",
      "\n"
     ]
    }
   ],
   "source": [
    "# Example: Select the columns \"Name\", \"Age\" and \"Salary\" from the dataframe df\n",
    "df.select([\"Name\", \"Age\", \"Salary\"]).show()"
   ]
  },
  {
   "cell_type": "markdown",
   "metadata": {},
   "source": [
    "**Where**"
   ]
  },
  {
   "cell_type": "code",
   "execution_count": 16,
   "metadata": {},
   "outputs": [
    {
     "name": "stdout",
     "output_type": "stream",
     "text": [
      "+----------+---+----------+------+----------+\n",
      "|      Name|Age|Experience|Salary|Department|\n",
      "+----------+---+----------+------+----------+\n",
      "|    Camilo| 50|         0|  5000|        IT|\n",
      "|      Juan|100|         2|  7000| Analitics|\n",
      "|Sin Nombre| 54|         1|  8000| Analitics|\n",
      "+----------+---+----------+------+----------+\n",
      "\n",
      "+----------+---+----------+------+----------+\n",
      "|      Name|Age|Experience|Salary|Department|\n",
      "+----------+---+----------+------+----------+\n",
      "|    Camilo| 50|         0|  5000|        IT|\n",
      "|      Juan|100|         2|  7000| Analitics|\n",
      "|Sin Nombre| 54|         1|  8000| Analitics|\n",
      "+----------+---+----------+------+----------+\n",
      "\n"
     ]
    }
   ],
   "source": [
    "# Example: find people whose age is greater than 30\n",
    "df.filter(df[\"Age\"] > 30).show()\n",
    "\n",
    "# Alternatively (Using SQL Syntax)\n",
    "df.filter(\"Age>30\").show()"
   ]
  },
  {
   "cell_type": "code",
   "execution_count": 17,
   "metadata": {},
   "outputs": [
    {
     "name": "stdout",
     "output_type": "stream",
     "text": [
      "+------+---+----------+------+----------+\n",
      "|  Name|Age|Experience|Salary|Department|\n",
      "+------+---+----------+------+----------+\n",
      "|Camilo| 50|         0|  5000|        IT|\n",
      "|  Juan|100|         2|  7000| Analitics|\n",
      "+------+---+----------+------+----------+\n",
      "\n",
      "+------+---+----------+------+----------+\n",
      "|  Name|Age|Experience|Salary|Department|\n",
      "+------+---+----------+------+----------+\n",
      "|Camilo| 50|         0|  5000|        IT|\n",
      "|  Juan|100|         2|  7000| Analitics|\n",
      "+------+---+----------+------+----------+\n",
      "\n",
      "+------+---+----------+------+----------+\n",
      "|  Name|Age|Experience|Salary|Department|\n",
      "+------+---+----------+------+----------+\n",
      "|Camilo| 50|         0|  5000|        IT|\n",
      "|  Juan|100|         2|  7000| Analitics|\n",
      "+------+---+----------+------+----------+\n",
      "\n"
     ]
    }
   ],
   "source": [
    "# Example: find people whose Name is is \"Juan\" or \"Camilo\" \n",
    "df.filter((df[\"Name\"] == \"Juan\") | (df[\"Name\"] == \"Camilo\")).show()\n",
    "\n",
    "#Alternatively\n",
    "df.filter(\"Name in ('Juan', 'Camilo')\").show()\n",
    "\n",
    "#Alternatively\n",
    "df.filter(\"Name = 'Juan' or Name = 'Camilo'\").show()"
   ]
  },
  {
   "cell_type": "markdown",
   "metadata": {},
   "source": [
    "**SELECT WHERE**"
   ]
  },
  {
   "cell_type": "code",
   "execution_count": 18,
   "metadata": {},
   "outputs": [
    {
     "name": "stdout",
     "output_type": "stream",
     "text": [
      "+----------+------+\n",
      "|      Name|Salary|\n",
      "+----------+------+\n",
      "|    Camilo|  5000|\n",
      "|      Juan|  7000|\n",
      "|Sin Nombre|  8000|\n",
      "+----------+------+\n",
      "\n",
      "+----------+------+\n",
      "|      Name|Salary|\n",
      "+----------+------+\n",
      "|    Camilo|  5000|\n",
      "|      Juan|  7000|\n",
      "|Sin Nombre|  8000|\n",
      "+----------+------+\n",
      "\n"
     ]
    }
   ],
   "source": [
    "# Example: Select the Name and Salary columns of the people whose age is greater than 30\n",
    "df.filter(df[\"Age\"] > 30).select([\"Name\", \"Salary\"]).show()\n",
    "\n",
    "# Alternatively\n",
    "df.filter(\"Age>30\").select([\"Name\", \"Salary\"]).show()"
   ]
  },
  {
   "cell_type": "markdown",
   "metadata": {},
   "source": [
    "**Group by**"
   ]
  },
  {
   "cell_type": "code",
   "execution_count": 19,
   "metadata": {},
   "outputs": [],
   "source": [
    "# Example: "
   ]
  },
  {
   "cell_type": "code",
   "execution_count": null,
   "metadata": {},
   "outputs": [],
   "source": []
  },
  {
   "cell_type": "code",
   "execution_count": 20,
   "metadata": {},
   "outputs": [
    {
     "name": "stdout",
     "output_type": "stream",
     "text": [
      "43.166666666666664\n"
     ]
    }
   ],
   "source": [
    "# Now, in order to obtain the mean of the column Age, we proceed as follows:\n",
    "mean_age = df.select(\"Age\").agg({\"Age\": \"mean\"}).collect()\n",
    "print(mean_age[0][0])\n",
    "\n",
    "# In this code, the agg funciton is used to calculate the mean of the column Age. The agg\n",
    "# function takes a dictionary as the parameter. The key of the dictionary is the name of the\n",
    "# column and the value is the aggregate function. In this case, the mean function is used\n",
    "# to calculate the mean of the column Age. There are other aggregate functions such as\n",
    "# min, max, sum, count, etc. The collect function is used to collect the result as a list."
   ]
  },
  {
   "cell_type": "code",
   "execution_count": null,
   "metadata": {},
   "outputs": [],
   "source": []
  }
 ],
 "metadata": {
  "kernelspec": {
   "display_name": "Python 3",
   "language": "python",
   "name": "python3"
  },
  "language_info": {
   "codemirror_mode": {
    "name": "ipython",
    "version": 3
   },
   "file_extension": ".py",
   "mimetype": "text/x-python",
   "name": "python",
   "nbconvert_exporter": "python",
   "pygments_lexer": "ipython3",
   "version": "3.11.2"
  }
 },
 "nbformat": 4,
 "nbformat_minor": 2
}
